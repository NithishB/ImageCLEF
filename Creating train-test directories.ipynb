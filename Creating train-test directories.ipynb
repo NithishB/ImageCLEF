{
 "cells": [
  {
   "cell_type": "code",
   "execution_count": 1,
   "metadata": {
    "ExecuteTime": {
     "end_time": "2018-04-12T07:14:07.950007Z",
     "start_time": "2018-04-12T07:14:07.692602Z"
    }
   },
   "outputs": [],
   "source": [
    "import os\n",
    "import shutil\n",
    "import math\n",
    "import numpy as np\n",
    "import pickle as pkl\n",
    "import pandas as pd\n",
    "import random\n",
    "from multiprocessing import Pool"
   ]
  },
  {
   "cell_type": "code",
   "execution_count": 2,
   "metadata": {
    "ExecuteTime": {
     "end_time": "2018-04-12T07:14:36.627689Z",
     "start_time": "2018-04-12T07:14:36.451912Z"
    }
   },
   "outputs": [],
   "source": [
    "os.listdir(\"Class wise Data/\")\n",
    "shutil.rmtree(\"Class wise Data/train\")\n",
    "shutil.rmtree(\"Class wise Data/test\")\n",
    "os.mkdir(\"Class wise Data/train\")\n",
    "os.mkdir(\"Class wise Data/test\")\n",
    "with open(\"unique_classes.pkl\",\"rb\") as f:\n",
    "    uc = pkl.load(f)\n",
    "for i in uc:\n",
    "    os.mkdir(\"Class wise Data/train/\"+i)\n",
    "    os.mkdir(\"Class wise Data/test/\"+i)"
   ]
  },
  {
   "cell_type": "code",
   "execution_count": 3,
   "metadata": {
    "ExecuteTime": {
     "end_time": "2018-04-12T07:15:38.942836Z",
     "start_time": "2018-04-12T07:15:38.322306Z"
    }
   },
   "outputs": [],
   "source": [
    "split = 0.15\n",
    "for folder in os.listdir(\"Class wise Data/\"):\n",
    "    if(folder not in [\"train\",\"test\"]):\n",
    "        x = math.ceil(split*len(os.listdir(\"Class wise Data/\"+folder)))\n",
    "        l = []\n",
    "        for im in os.listdir(\"Class wise Data/\"+folder):\n",
    "            l.append(im)\n",
    "        random.shuffle(l)\n",
    "        # train copy\n",
    "        source = \"Class wise Data/\"+str(folder)+\"/\"\n",
    "        dest = \"Class wise Data/train/\"+str(folder)+\"/\"\n",
    "        for item in l[x:]:\n",
    "            source1=source+str(item)\n",
    "            shutil.copy(source1,dest)\n",
    "        # test copy\n",
    "        dest = \"Class wise Data/test/\"+str(folder)+\"/\"\n",
    "        for item in l[:x]:\n",
    "            source1=source+str(item)\n",
    "            shutil.copy(source1,dest)"
   ]
  },
  {
   "cell_type": "code",
   "execution_count": null,
   "metadata": {},
   "outputs": [],
   "source": []
  }
 ],
 "metadata": {
  "kernelspec": {
   "display_name": "Python 3",
   "language": "python",
   "name": "python3"
  },
  "language_info": {
   "codemirror_mode": {
    "name": "ipython",
    "version": 3
   },
   "file_extension": ".py",
   "mimetype": "text/x-python",
   "name": "python",
   "nbconvert_exporter": "python",
   "pygments_lexer": "ipython3",
   "version": "3.5.2"
  }
 },
 "nbformat": 4,
 "nbformat_minor": 2
}
