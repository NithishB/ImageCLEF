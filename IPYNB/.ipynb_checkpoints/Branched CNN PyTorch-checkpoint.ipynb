{
 "cells": [
  {
   "cell_type": "code",
   "execution_count": 40,
   "metadata": {
    "ExecuteTime": {
     "end_time": "2018-04-22T09:29:14.775217Z",
     "start_time": "2018-04-22T09:29:14.769962Z"
    }
   },
   "outputs": [],
   "source": [
    "import torch\n",
    "import torchvision\n",
    "import torch.nn as nn\n",
    "import torch.optim as optim\n",
    "import torch.nn.functional as F\n",
    "from torch.autograd import Variable\n",
    "import torchvision.transforms as transforms\n",
    "from torch.utils.data import DataLoader, Dataset"
   ]
  },
  {
   "cell_type": "code",
   "execution_count": 41,
   "metadata": {
    "ExecuteTime": {
     "end_time": "2018-04-22T09:29:17.146259Z",
     "start_time": "2018-04-22T09:29:15.313897Z"
    }
   },
   "outputs": [
    {
     "name": "stdout",
     "output_type": "stream",
     "text": [
      "Files already downloaded and verified\n",
      "Files already downloaded and verified\n",
      "plane   dog   car  deer\n"
     ]
    },
    {
     "data": {
      "image/png": "[encoded data removed]",
      "text/plain": [
       "<Figure size 432x288 with 1 Axes>"
      ]
     },
     "metadata": {},
     "output_type": "display_data"
    }
   ],
   "source": [
    "transform = transforms.Compose(\n",
    "    [transforms.ToTensor(),\n",
    "     transforms.Normalize((0.5, 0.5, 0.5), (0.5, 0.5, 0.5))])\n",
    "\n",
    "trainset = torchvision.datasets.CIFAR10(root='./data', train=True,\n",
    "                                        download=True, transform=transform)\n",
    "trainloader = torch.utils.data.DataLoader(trainset, batch_size=4,\n",
    "                                          shuffle=True, num_workers=2)\n",
    "\n",
    "testset = torchvision.datasets.CIFAR10(root='./data', train=False,\n",
    "                                       download=True, transform=transform)\n",
    "testloader = torch.utils.data.DataLoader(testset, batch_size=4,\n",
    "                                         shuffle=False, num_workers=2)\n",
    "\n",
    "classes = ('plane', 'car', 'bird', 'cat',\n",
    "           'deer', 'dog', 'frog', 'horse', 'ship', 'truck')\n",
    "\n",
    "import matplotlib.pyplot as plt\n",
    "import numpy as np\n",
    "\n",
    "# functions to show an image\n",
    "\n",
    "\n",
    "def imshow(img):\n",
    "    img = img / 2 + 0.5     # unnormalize\n",
    "    npimg = img.numpy()\n",
    "    plt.imshow(np.transpose(npimg, (1, 2, 0)))\n",
    "\n",
    "\n",
    "# get some random training images\n",
    "dataiter = iter(trainloader)\n",
    "images, labels = dataiter.next()\n",
    "\n",
    "# show images\n",
    "imshow(torchvision.utils.make_grid(images))\n",
    "# print labels\n",
    "print(' '.join('%5s' % classes[labels[j]] for j in range(4)))"
   ]
  },
  {
   "cell_type": "code",
   "execution_count": 42,
   "metadata": {
    "ExecuteTime": {
     "end_time": "2018-04-22T09:29:17.178087Z",
     "start_time": "2018-04-22T09:29:17.161644Z"
    }
   },
   "outputs": [],
   "source": [
    "class NN(nn.Module):\n",
    "    \n",
    "    def __init__(self):\n",
    "        \n",
    "        super(NN, self).__init__()\n",
    "        #super(Net, self).__init__()\n",
    "        self.conv1 = nn.Conv2d(3, 6, 5)\n",
    "        self.pool = nn.MaxPool2d(2, 2)\n",
    "        self.conv2 = nn.Conv2d(6, 16, 5)\n",
    "        self.fc1 = nn.Linear(16 * 5 * 5, 120)\n",
    "        self.fc2 = nn.Linear(120, 84)\n",
    "        self.fc3 = nn.Linear(84, 10)\n",
    "        \n",
    "#         self.basic_1x1 = nn.Conv2d(1,96,1)\n",
    "#         self.basic_2x2 = nn.Conv2d(96,128,2)\n",
    "        \n",
    "#         # Branch 1\n",
    "#         self.branch1_2x2 = nn.Conv2d(128,256,2)\n",
    "#         self.branch1_pool = nn.MaxPool2d(2)\n",
    "#         self.branch1_3x3 = nn.Conv2d(256,128,3)\n",
    "#         self.branch1_fc1 = nn.Linear(128 * 3 * 3, 120)\n",
    "#         self.branch1_fc2 = nn.Linear(120, 84)\n",
    "#         self.branch1_fc3 = nn.Linear(84, 1)\n",
    "        \n",
    "#         # Branch 2\n",
    "#         self.branch2_2x2 = nn.Conv2d(128,256,2)\n",
    "#         self.branch2_3x3 = nn.Conv2d(256,512,3)\n",
    "#         self.branch2_pool = nn.MaxPool2d(2)\n",
    "#         self.branch2_5x5 = nn.Conv2d(512,128,5)\n",
    "#         self.branch2_fc1 = nn.Linear(128 * 5 * 5, 120)\n",
    "#         self.branch2_fc2 = nn.Linear(120, 84)\n",
    "#         self.branch2_fc3 = nn.Linear(84, 1)\n",
    "        \n",
    "#         # Branch 3\n",
    "#         self.branch3_2x2_1 = nn.Conv2d(128,156,2)\n",
    "#         self.branch3_2x2_2 = nn.Conv2d(156,256,2)\n",
    "#         self.branch3_3x3 = nn.Conv2d(256,512,3)\n",
    "#         self.branch3_pool = nn.MaxPool2d(2)\n",
    "#         self.branch3_5x5 = nn.Conv2d(512,128,5)\n",
    "#         self.branch3_fc1 = nn.Linear(128 * 5 * 5, 120)\n",
    "#         self.branch3_fc2 = nn.Linear(120, 84)\n",
    "#         self.branch3_fc3 = nn.Linear(84, 1)\n",
    "        \n",
    "#         # Branch 4\n",
    "#         self.branch4_2x2_1 = nn.Conv2d(128,156,2)\n",
    "#         self.branch4_2x2_2 = nn.Conv2d(156,256,2)\n",
    "#         self.branch4_3x3_1 = nn.Conv2d(256,512,3)\n",
    "#         self.branch4_3x3_2 = nn.Conv2d(512,854,3)\n",
    "#         self.branch4_pool = nn.MaxPool2d(2)\n",
    "#         self.branch4_5x5_1 = nn.Conv2d(854,256,5)\n",
    "#         self.branch4_5x5_2 = nn.Conv2d(256,128,5)\n",
    "#         self.branch4_fc1 = nn.Linear(128 * 5 * 5, 120)\n",
    "#         self.branch4_fc2 = nn.Linear(120, 84)\n",
    "#         self.branch4_fc3 = nn.Linear(84, 1)\n",
    "        \n",
    "#         # Branch 5\n",
    "#         self.branch5_2x2_1 = nn.Conv2d(128,156,2)\n",
    "#         self.branch5_2x2_2 = nn.Conv2d(156,256,2)\n",
    "#         self.branch5_2x2_3 = nn.Conv2d(256,512,2)\n",
    "#         self.branch5_3x3_1 = nn.Conv2d(512,854,3)\n",
    "#         self.branch5_3x3_2 = nn.Conv2d(854,512,3)\n",
    "#         self.branch5_pool = nn.MaxPool2d(2)\n",
    "#         self.branch5_5x5_1 = nn.Conv2d(512,256,5)\n",
    "#         self.branch5_5x5_2 = nn.Conv2d(256,128,5)\n",
    "#         self.branch5_fc1 = nn.Linear(128 * 5 * 5, 120)\n",
    "#         self.branch5_fc2 = nn.Linear(120, 84)\n",
    "#         self.branch5_fc3 = nn.Linear(84, 1)\n",
    "        \n",
    "        def forward(self, x):\n",
    "        \n",
    "            x = self.pool(F.relu(self.conv1(x)))\n",
    "            x = self.pool(F.relu(self.conv2(x)))\n",
    "            x = x.view(-1, 16 * 5 * 5)\n",
    "            x = F.relu(self.fc1(x))\n",
    "            x = F.relu(self.fc2(x))\n",
    "            x = self.fc3(x)\n",
    "            return x\n",
    "        \n",
    "#             # Basic model for all branches\n",
    "#             x = self.pool(F.leaky_relu(self.basic_1x1(x)))\n",
    "#             x = self.pool(F.leaky_relu(self.basic_2x2(x)))\n",
    "            \n",
    "#             # Branch 1 for class prediction\n",
    "#             b1 = self.pool(F.relu(self.branch1_2x2(x)))\n",
    "#             b1 = self.pool(F.relu(self.branch1_pool(b1)))\n",
    "#             b1 = self.pool(F.relu(self.branch1_3x3(b1)))\n",
    "#             b1 = b1.view(-1, 128 * 3 * 3)\n",
    "#             b1 = F.relu(self.branch1_fc1(b1))\n",
    "#             b1 = F.relu(self.branch1_fc2(b1))\n",
    "#             b1 = self.branch1_fc3(b1)\n",
    "            \n",
    "#             # Branch 2 for order prediction\n",
    "#             b2 = self.pool(F.relu(self.branch2_2x2(x)))\n",
    "#             b2 = self.pool(F.relu(self.branch2_3x3(b2)))\n",
    "#             b2 = self.pool(F.relu(self.branch2_pool(b2)))\n",
    "#             b2 = self.pool(F.relu(self.branch2_5x5(b2)))\n",
    "#             b2 = b2.view(-1, 128 * 5 * 5)\n",
    "#             b2 = F.relu(self.branch2_fc1(b2))\n",
    "#             b2 = F.relu(self.branch2_fc2(b2))\n",
    "#             b2 = self.branch2_fc3(b2)\n",
    "            \n",
    "#             # Branch 3 for order prediction\n",
    "#             b3 = self.pool(F.relu(self.branch3_2x2_1(x)))\n",
    "#             b3 = self.pool(F.relu(self.branch3_2x2_2(b3)))\n",
    "#             b3 = self.pool(F.relu(self.branch3_3x3(b3)))\n",
    "#             b3 = self.pool(F.relu(self.branch3_pool(b3)))\n",
    "#             b3 = self.pool(F.relu(self.branch3_5x5(b3)))\n",
    "#             b3 = b3.view(-1, 128 * 5 * 5)\n",
    "#             b3 = F.relu(self.branch3_fc1(b3))\n",
    "#             b3 = F.relu(self.branch3_fc2(b3))\n",
    "#             b3 = self.branch3_fc3(b3)\n",
    "            \n",
    "#             # Branch 4 for order prediction\n",
    "#             b4 = self.pool(F.relu(self.branch4_2x2_1(x)))\n",
    "#             b4 = self.pool(F.relu(self.branch4_2x2_2(b4)))\n",
    "#             b4 = self.pool(F.relu(self.branch4_3x3_1(b4)))\n",
    "#             b4 = self.pool(F.relu(self.branch4_3x3_2(b4)))\n",
    "#             b4 = self.pool(F.relu(self.branch4_pool(b4)))\n",
    "#             b4 = self.pool(F.relu(self.branch4_5x5_1(b4)))\n",
    "#             b4 = self.pool(F.relu(self.branch4_5x5_2(b4)))\n",
    "#             b4 = b4.view(-1, 128 * 5 * 5)\n",
    "#             b4 = F.relu(self.branch4_fc1(b4))\n",
    "#             b4 = F.relu(self.branch4_fc2(b4))\n",
    "#             b4 = self.branch4_fc3(b4)\n",
    "            \n",
    "#             # Branch 2 for order prediction\n",
    "#             b5 = self.pool(F.relu(self.branch5_2x2_1(x)))\n",
    "#             b5 = self.pool(F.relu(self.branch5_2x2_2(b5)))\n",
    "#             b5 = self.pool(F.relu(self.branch5_2x2_3(b5)))\n",
    "#             b5 = self.pool(F.relu(self.branch5_3x3_1(b5)))\n",
    "#             b5 = self.pool(F.relu(self.branch5_3x3_2(b5)))\n",
    "#             b5 = self.pool(F.relu(self.branch5_pool(b5)))\n",
    "#             b5 = self.pool(F.relu(self.branch5_5x5_1(b5)))\n",
    "#             b5 = self.pool(F.relu(self.branch5_5x5_2(b5)))\n",
    "#             b5 = b5.view(-1, 128 * 5 * 5)\n",
    "#             b5 = F.relu(self.branch5_fc1(b5))\n",
    "#             b5 = F.relu(self.branch5_fc2(b5))\n",
    "#             b5 = self.branch5_fc3(b5)\n",
    "            \n",
    "#             return b1"
   ]
  },
  {
   "cell_type": "code",
   "execution_count": 43,
   "metadata": {
    "ExecuteTime": {
     "end_time": "2018-04-22T09:29:17.313787Z",
     "start_time": "2018-04-22T09:29:17.189089Z"
    }
   },
   "outputs": [],
   "source": [
    "net = NN()"
   ]
  },
  {
   "cell_type": "code",
   "execution_count": 44,
   "metadata": {
    "ExecuteTime": {
     "end_time": "2018-04-22T09:29:17.382893Z",
     "start_time": "2018-04-22T09:29:17.317323Z"
    }
   },
   "outputs": [],
   "source": [
    "criterion = nn.CrossEntropyLoss()\n",
    "optimizer = optim.SGD(net.parameters(), lr=0.001, momentum=0.9)"
   ]
  },
  {
   "cell_type": "code",
   "execution_count": 45,
   "metadata": {
    "ExecuteTime": {
     "end_time": "2018-04-22T09:29:18.113018Z",
     "start_time": "2018-04-22T09:29:18.054517Z"
    }
   },
   "outputs": [
    {
     "ename": "NotImplementedError",
     "evalue": "",
     "output_type": "error",
     "traceback": [
      "\u001b[0;31m---------------------------------------------------------------------------\u001b[0m",
      "\u001b[0;31mNotImplementedError\u001b[0m                       Traceback (most recent call last)",
      "\u001b[0;32m<ipython-input-45-9461cf7ce828>\u001b[0m in \u001b[0;36m<module>\u001b[0;34m()\u001b[0m\n\u001b[1;32m     13\u001b[0m \u001b[0;34m\u001b[0m\u001b[0m\n\u001b[1;32m     14\u001b[0m         \u001b[0;31m# forward + backward + optimize\u001b[0m\u001b[0;34m\u001b[0m\u001b[0;34m\u001b[0m\u001b[0m\n\u001b[0;32m---> 15\u001b[0;31m         \u001b[0moutputs\u001b[0m \u001b[0;34m=\u001b[0m \u001b[0mnet\u001b[0m\u001b[0;34m(\u001b[0m\u001b[0minputs\u001b[0m\u001b[0;34m)\u001b[0m\u001b[0;34m\u001b[0m\u001b[0m\n\u001b[0m\u001b[1;32m     16\u001b[0m         \u001b[0mloss\u001b[0m \u001b[0;34m=\u001b[0m \u001b[0mcriterion\u001b[0m\u001b[0;34m(\u001b[0m\u001b[0moutputs\u001b[0m\u001b[0;34m,\u001b[0m \u001b[0mlabels\u001b[0m\u001b[0;34m)\u001b[0m\u001b[0;34m\u001b[0m\u001b[0m\n\u001b[1;32m     17\u001b[0m         \u001b[0mloss\u001b[0m\u001b[0;34m.\u001b[0m\u001b[0mbackward\u001b[0m\u001b[0;34m(\u001b[0m\u001b[0;34m)\u001b[0m\u001b[0;34m\u001b[0m\u001b[0m\n",
      "\u001b[0;32m/usr/local/lib/python3.5/dist-packages/torch/nn/modules/module.py\u001b[0m in \u001b[0;36m__call__\u001b[0;34m(self, *input, **kwargs)\u001b[0m\n\u001b[1;32m    355\u001b[0m             \u001b[0mresult\u001b[0m \u001b[0;34m=\u001b[0m \u001b[0mself\u001b[0m\u001b[0;34m.\u001b[0m\u001b[0m_slow_forward\u001b[0m\u001b[0;34m(\u001b[0m\u001b[0;34m*\u001b[0m\u001b[0minput\u001b[0m\u001b[0;34m,\u001b[0m \u001b[0;34m**\u001b[0m\u001b[0mkwargs\u001b[0m\u001b[0;34m)\u001b[0m\u001b[0;34m\u001b[0m\u001b[0m\n\u001b[1;32m    356\u001b[0m         \u001b[0;32melse\u001b[0m\u001b[0;34m:\u001b[0m\u001b[0;34m\u001b[0m\u001b[0m\n\u001b[0;32m--> 357\u001b[0;31m             \u001b[0mresult\u001b[0m \u001b[0;34m=\u001b[0m \u001b[0mself\u001b[0m\u001b[0;34m.\u001b[0m\u001b[0mforward\u001b[0m\u001b[0;34m(\u001b[0m\u001b[0;34m*\u001b[0m\u001b[0minput\u001b[0m\u001b[0;34m,\u001b[0m \u001b[0;34m**\u001b[0m\u001b[0mkwargs\u001b[0m\u001b[0;34m)\u001b[0m\u001b[0;34m\u001b[0m\u001b[0m\n\u001b[0m\u001b[1;32m    358\u001b[0m         \u001b[0;32mfor\u001b[0m \u001b[0mhook\u001b[0m \u001b[0;32min\u001b[0m \u001b[0mself\u001b[0m\u001b[0;34m.\u001b[0m\u001b[0m_forward_hooks\u001b[0m\u001b[0;34m.\u001b[0m\u001b[0mvalues\u001b[0m\u001b[0;34m(\u001b[0m\u001b[0;34m)\u001b[0m\u001b[0;34m:\u001b[0m\u001b[0;34m\u001b[0m\u001b[0m\n\u001b[1;32m    359\u001b[0m             \u001b[0mhook_result\u001b[0m \u001b[0;34m=\u001b[0m \u001b[0mhook\u001b[0m\u001b[0;34m(\u001b[0m\u001b[0mself\u001b[0m\u001b[0;34m,\u001b[0m \u001b[0minput\u001b[0m\u001b[0;34m,\u001b[0m \u001b[0mresult\u001b[0m\u001b[0;34m)\u001b[0m\u001b[0;34m\u001b[0m\u001b[0m\n",
      "\u001b[0;32m/usr/local/lib/python3.5/dist-packages/torch/nn/modules/module.py\u001b[0m in \u001b[0;36mforward\u001b[0;34m(self, *input)\u001b[0m\n\u001b[1;32m     69\u001b[0m             \u001b[0mregistered\u001b[0m \u001b[0mhooks\u001b[0m \u001b[0;32mwhile\u001b[0m \u001b[0mthe\u001b[0m \u001b[0mlatter\u001b[0m \u001b[0msilently\u001b[0m \u001b[0mignores\u001b[0m \u001b[0mthem\u001b[0m\u001b[0;34m.\u001b[0m\u001b[0;34m\u001b[0m\u001b[0m\n\u001b[1;32m     70\u001b[0m         \"\"\"\n\u001b[0;32m---> 71\u001b[0;31m         \u001b[0;32mraise\u001b[0m \u001b[0mNotImplementedError\u001b[0m\u001b[0;34m\u001b[0m\u001b[0m\n\u001b[0m\u001b[1;32m     72\u001b[0m \u001b[0;34m\u001b[0m\u001b[0m\n\u001b[1;32m     73\u001b[0m     \u001b[0;32mdef\u001b[0m \u001b[0mregister_buffer\u001b[0m\u001b[0;34m(\u001b[0m\u001b[0mself\u001b[0m\u001b[0;34m,\u001b[0m \u001b[0mname\u001b[0m\u001b[0;34m,\u001b[0m \u001b[0mtensor\u001b[0m\u001b[0;34m)\u001b[0m\u001b[0;34m:\u001b[0m\u001b[0;34m\u001b[0m\u001b[0m\n",
      "\u001b[0;31mNotImplementedError\u001b[0m: "
     ]
    }
   ],
   "source": [
    "for epoch in range(10):  # loop over the dataset multiple times\n",
    "\n",
    "    running_loss = 0.0\n",
    "    for i, data in enumerate(trainloader, 0):\n",
    "        # get the inputs\n",
    "        inputs, labels = data\n",
    "\n",
    "        # wrap them in Variable\n",
    "        inputs, labels = Variable(inputs), Variable(labels)\n",
    "\n",
    "        # zero the parameter gradients\n",
    "        optimizer.zero_grad()\n",
    "\n",
    "        # forward + backward + optimize\n",
    "        outputs = net(inputs)\n",
    "        loss = criterion(outputs, labels)\n",
    "        loss.backward()\n",
    "        optimizer.step()\n",
    "\n",
    "        # print statistics\n",
    "        running_loss += loss.data[0]\n",
    "        if i % 2000 == 1999:    # print every 2000 mini-batches\n",
    "            print('[%d, %5d] loss: %.3f' %\n",
    "                  (epoch + 1, i + 1, running_loss / 2000))\n",
    "            running_loss = 0.0\n",
    "\n",
    "print('Finished Training')"
   ]
  },
  {
   "cell_type": "code",
   "execution_count": null,
   "metadata": {},
   "outputs": [],
   "source": []
  }
 ],
 "metadata": {
  "kernelspec": {
   "display_name": "Python 3",
   "language": "python",
   "name": "python3"
  },
  "language_info": {
   "codemirror_mode": {
    "name": "ipython",
    "version": 3
   },
   "file_extension": ".py",
   "mimetype": "text/x-python",
   "name": "python",
   "nbconvert_exporter": "python",
   "pygments_lexer": "ipython3",
   "version": "3.5.2"
  }
 },
 "nbformat": 4,
 "nbformat_minor": 2
}
