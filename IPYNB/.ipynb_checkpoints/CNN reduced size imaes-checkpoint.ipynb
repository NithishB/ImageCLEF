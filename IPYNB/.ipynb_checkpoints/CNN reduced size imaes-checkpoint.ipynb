{
 "cells": [
  {
   "cell_type": "code",
   "execution_count": 1,
   "metadata": {
    "ExecuteTime": {
     "end_time": "2018-04-17T03:38:30.408173Z",
     "start_time": "2018-04-17T03:38:30.098370Z"
    }
   },
   "outputs": [],
   "source": [
    "import numpy as np\n",
    "import pandas as pd\n",
    "import tifffile as tif\n",
    "import os\n",
    "from PIL import Image\n",
    "from multiprocessing import Pool"
   ]
  },
  {
   "cell_type": "code",
   "execution_count": 3,
   "metadata": {
    "ExecuteTime": {
     "end_time": "2018-04-17T03:38:36.632883Z",
     "start_time": "2018-04-17T03:38:36.616537Z"
    }
   },
   "outputs": [
    {
     "data": {
      "text/plain": [
       "['.ipynb_checkpoints',\n",
       " 'Code',\n",
       " 'Data',\n",
       " 'GLC18_protocol_note.pdf',\n",
       " 'occurrences_train.csv',\n",
       " 'patchTrain']"
      ]
     },
     "execution_count": 3,
     "metadata": {},
     "output_type": "execute_result"
    }
   ],
   "source": [
    "os.chdir(\"../../\")\n",
    "os.listdir()"
   ]
  },
  {
   "cell_type": "code",
   "execution_count": 4,
   "metadata": {
    "ExecuteTime": {
     "end_time": "2018-04-17T03:38:43.984745Z",
     "start_time": "2018-04-17T03:38:40.298806Z"
    }
   },
   "outputs": [],
   "source": [
    "df = pd.read_csv(\"occurrences_train.csv\", low_memory=False)"
   ]
  },
  {
   "cell_type": "code",
   "execution_count": 5,
   "metadata": {
    "ExecuteTime": {
     "end_time": "2018-04-17T03:38:45.637140Z",
     "start_time": "2018-04-17T03:38:45.606850Z"
    }
   },
   "outputs": [],
   "source": [
    "uc = df['class'].unique()\n",
    "us = df['species'].unique()"
   ]
  },
  {
   "cell_type": "code",
   "execution_count": 17,
   "metadata": {
    "ExecuteTime": {
     "end_time": "2018-04-17T02:54:50.095471Z",
     "start_time": "2018-04-17T02:54:49.674769Z"
    }
   },
   "outputs": [
    {
     "name": "stdout",
     "output_type": "stream",
     "text": [
      "Magnoliopsida 178767\n",
      "Liliopsida 34411\n",
      "Polypodiopsida 2655\n",
      "Pinopsida 1780\n",
      "Psilotopsida 67\n",
      "Equisetopsida 471\n",
      "Lycopodiopsida 288\n",
      "Gnetopsida 66\n",
      "Ginkgoopsida 34\n",
      "Cycadopsida 4\n",
      "39776 178767 138991\n"
     ]
    }
   ],
   "source": [
    "s = 0\n",
    "for cls in uc:\n",
    "    if(cls != \"Magnoliopsida\"):\n",
    "        s+=df[df['class']==cls].shape[0]\n",
    "    print(cls, df[df['class']==cls].shape[0])\n",
    "print(s, df.shape[0]-s, df.shape[0]-s-s)"
   ]
  },
  {
   "cell_type": "code",
   "execution_count": 13,
   "metadata": {
    "ExecuteTime": {
     "end_time": "2018-04-17T02:51:01.809321Z",
     "start_time": "2018-04-17T02:50:16.614944Z"
    }
   },
   "outputs": [],
   "source": [
    "l = []\n",
    "for spc in us:\n",
    "    l.append((spc,df[df['species']==spc].shape[0]))\n",
    "l = sorted(l, key=lambda x: x[1])"
   ]
  },
  {
   "cell_type": "code",
   "execution_count": 14,
   "metadata": {
    "ExecuteTime": {
     "end_time": "2018-04-17T02:51:07.150799Z",
     "start_time": "2018-04-17T02:51:07.140761Z"
    }
   },
   "outputs": [
    {
     "data": {
      "text/plain": [
       "([(nan, 0),\n",
       "  ('Rubus vulgaris', 1),\n",
       "  ('Stachys corsica', 1),\n",
       "  ('Bryonia alba', 1),\n",
       "  ('Bidens bipinnata', 1)],\n",
       " [('Urtica dioica', 1808),\n",
       "  ('Trifolium repens', 1843),\n",
       "  ('Sonchus oleraceus', 2078),\n",
       "  ('Poa annua', 2090),\n",
       "  ('Senecio vulgaris', 2259)])"
      ]
     },
     "execution_count": 14,
     "metadata": {},
     "output_type": "execute_result"
    }
   ],
   "source": [
    "l[0:5], l[-5:]"
   ]
  },
  {
   "cell_type": "code",
   "execution_count": null,
   "metadata": {
    "ExecuteTime": {
     "start_time": "2018-04-17T03:45:43.140Z"
    }
   },
   "outputs": [],
   "source": [
    "l = range(df.shape[0])\n",
    "im_details = []\n",
    "spec_id = []\n",
    "\n",
    "def f(g):\n",
    "    l = [0 for k in range(df['species'].unique().shape[0])]\n",
    "    l[list(df['species'].unique()).index(df['species'][g])]=1\n",
    "    return [(df['patch_dirname'][g],df['patch_id'][g]),l]\n",
    "\n",
    "pool = Pool(processes=4)\n",
    "results = [pool.apply_async(f, args=(g,)) for g in range(df.shape[0])]\n",
    "output = [p.get() for p in results]"
   ]
  },
  {
   "cell_type": "code",
   "execution_count": null,
   "metadata": {},
   "outputs": [],
   "source": [
    "len(im_details), len(spec_id)"
   ]
  },
  {
   "cell_type": "code",
   "execution_count": null,
   "metadata": {},
   "outputs": [],
   "source": [
    "len(im_details[0]), len(spec_id[0])"
   ]
  }
 ],
 "metadata": {
  "kernelspec": {
   "display_name": "Python 3",
   "language": "python",
   "name": "python3"
  },
  "language_info": {
   "codemirror_mode": {
    "name": "ipython",
    "version": 3
   },
   "file_extension": ".py",
   "mimetype": "text/x-python",
   "name": "python",
   "nbconvert_exporter": "python",
   "pygments_lexer": "ipython3",
   "version": "3.5.2"
  }
 },
 "nbformat": 4,
 "nbformat_minor": 2
}
