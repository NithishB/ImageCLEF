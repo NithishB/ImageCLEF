{
 "cells": [
  {
   "cell_type": "code",
   "execution_count": 1,
   "metadata": {
    "ExecuteTime": {
     "end_time": "2018-04-17T06:57:24.308558Z",
     "start_time": "2018-04-17T06:57:24.007639Z"
    }
   },
   "outputs": [],
   "source": [
    "import os\n",
    "import numpy as np\n",
    "import pandas as pd\n",
    "from PIL import Image\n",
    "import tifffile as tif\n",
    "import matplotlib as matplt\n",
    "import multiprocessing as mp\n",
    "import sys\n",
    "\n",
    "os.chdir(\"../../\")"
   ]
  },
  {
   "cell_type": "code",
   "execution_count": 2,
   "metadata": {
    "ExecuteTime": {
     "end_time": "2018-04-17T06:57:29.417414Z",
     "start_time": "2018-04-17T06:57:25.872989Z"
    }
   },
   "outputs": [],
   "source": [
    "df = pd.read_csv(\"occurrences_train.csv\", low_memory=False)"
   ]
  },
  {
   "cell_type": "code",
   "execution_count": 3,
   "metadata": {
    "ExecuteTime": {
     "end_time": "2018-04-17T06:57:29.808004Z",
     "start_time": "2018-04-17T06:57:29.802123Z"
    }
   },
   "outputs": [],
   "source": [
    "def feature_map_reshaper(image,crop_size=16):\n",
    "    t = []\n",
    "    for i in range(image.shape[1]):\n",
    "        d = []\n",
    "        for j in range(image.shape[2]):\n",
    "            l = []\n",
    "            for k in range(image.shape[0]):\n",
    "                l.append(image[k][i][j])\n",
    "            d.append(l)\n",
    "        t.append(d)\n",
    "    f = []\n",
    "    for i in range(crop_size,len(t)-crop_size):\n",
    "        d = []\n",
    "        for j in range(crop_size,len(t)-crop_size):\n",
    "            d.append(t[i][j])\n",
    "        f.append(d)\n",
    "    f = np.array(f)\n",
    "    f = f.astype(int)\n",
    "    return f"
   ]
  },
  {
   "cell_type": "code",
   "execution_count": 4,
   "metadata": {
    "ExecuteTime": {
     "end_time": "2018-04-17T06:57:30.325404Z",
     "start_time": "2018-04-17T06:57:30.218685Z"
    }
   },
   "outputs": [],
   "source": [
    "arr = feature_map_reshaper(tif.imread(\"Data/Class wise Data/train/Cycadopsida/patch_56788.tif\"))"
   ]
  },
  {
   "cell_type": "code",
   "execution_count": 5,
   "metadata": {
    "ExecuteTime": {
     "end_time": "2018-04-17T06:57:31.025808Z",
     "start_time": "2018-04-17T06:57:31.012999Z"
    }
   },
   "outputs": [
    {
     "data": {
      "text/plain": [
       "(32, 32, 33)"
      ]
     },
     "execution_count": 5,
     "metadata": {},
     "output_type": "execute_result"
    }
   ],
   "source": [
    "arr.shape"
   ]
  },
  {
   "cell_type": "code",
   "execution_count": 6,
   "metadata": {
    "ExecuteTime": {
     "end_time": "2018-04-17T06:57:31.774856Z",
     "start_time": "2018-04-17T06:57:31.716123Z"
    }
   },
   "outputs": [
    {
     "ename": "NameError",
     "evalue": "name 'getsizeof' is not defined",
     "output_type": "error",
     "traceback": [
      "\u001b[0;31m---------------------------------------------------------------------------\u001b[0m",
      "\u001b[0;31mNameError\u001b[0m                                 Traceback (most recent call last)",
      "\u001b[0;32m<ipython-input-6-38fbc41a025d>\u001b[0m in \u001b[0;36m<module>\u001b[0;34m()\u001b[0m\n\u001b[0;32m----> 1\u001b[0;31m \u001b[0mgetsizeof\u001b[0m\u001b[0;34m(\u001b[0m\u001b[0marr\u001b[0m\u001b[0;34m)\u001b[0m\u001b[0;34m/\u001b[0m\u001b[0;36m8\u001b[0m\u001b[0;34m\u001b[0m\u001b[0m\n\u001b[0m",
      "\u001b[0;31mNameError\u001b[0m: name 'getsizeof' is not defined"
     ]
    }
   ],
   "source": [
    "getsizeof(arr)/8"
   ]
  },
  {
   "cell_type": "code",
   "execution_count": 7,
   "metadata": {
    "ExecuteTime": {
     "end_time": "2018-04-17T06:57:35.123452Z",
     "start_time": "2018-04-17T06:57:35.119007Z"
    }
   },
   "outputs": [
    {
     "data": {
      "text/plain": [
       "sys.int_info(bits_per_digit=30, sizeof_digit=4)"
      ]
     },
     "execution_count": 7,
     "metadata": {},
     "output_type": "execute_result"
    }
   ],
   "source": [
    "sys.int_info"
   ]
  },
  {
   "cell_type": "code",
   "execution_count": 8,
   "metadata": {
    "ExecuteTime": {
     "end_time": "2018-04-17T06:58:03.790631Z",
     "start_time": "2018-04-17T06:58:03.780704Z"
    }
   },
   "outputs": [
    {
     "data": {
      "text/plain": [
       "270464"
      ]
     },
     "execution_count": 8,
     "metadata": {},
     "output_type": "execute_result"
    }
   ],
   "source": [
    "sys.getsizeof(arr)"
   ]
  },
  {
   "cell_type": "code",
   "execution_count": 13,
   "metadata": {
    "ExecuteTime": {
     "end_time": "2018-04-17T07:01:54.803032Z",
     "start_time": "2018-04-17T07:01:54.792190Z"
    }
   },
   "outputs": [
    {
     "data": {
      "text/plain": [
       "6.0"
      ]
     },
     "execution_count": 13,
     "metadata": {},
     "output_type": "execute_result"
    }
   ],
   "source": [
    "a = 0\n",
    "sys.getsizeof(a)/4"
   ]
  },
  {
   "cell_type": "code",
   "execution_count": null,
   "metadata": {},
   "outputs": [],
   "source": []
  }
 ],
 "metadata": {
  "kernelspec": {
   "display_name": "Python 3",
   "language": "python",
   "name": "python3"
  },
  "language_info": {
   "codemirror_mode": {
    "name": "ipython",
    "version": 3
   },
   "file_extension": ".py",
   "mimetype": "text/x-python",
   "name": "python",
   "nbconvert_exporter": "python",
   "pygments_lexer": "ipython3",
   "version": "3.5.2"
  }
 },
 "nbformat": 4,
 "nbformat_minor": 2
}
