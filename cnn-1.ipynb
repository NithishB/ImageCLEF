{
 "cells": [
  {
   "cell_type": "code",
   "execution_count": 1,
   "metadata": {
    "ExecuteTime": {
     "end_time": "2018-04-12T07:26:31.581050Z",
     "start_time": "2018-04-12T07:26:30.384623Z"
    }
   },
   "outputs": [
    {
     "name": "stderr",
     "output_type": "stream",
     "text": [
      "Using TensorFlow backend.\n"
     ]
    }
   ],
   "source": [
    "from keras.models import Sequential\n",
    "from keras.layers import Convolution2D\n",
    "from keras.layers import MaxPooling2D\n",
    "from keras.layers import Flatten\n",
    "from keras.layers import Dense"
   ]
  },
  {
   "cell_type": "code",
   "execution_count": 2,
   "metadata": {
    "ExecuteTime": {
     "end_time": "2018-04-12T07:26:31.686014Z",
     "start_time": "2018-04-12T07:26:31.583782Z"
    }
   },
   "outputs": [
    {
     "name": "stdout",
     "output_type": "stream",
     "text": [
      "_________________________________________________________________\n",
      "Layer (type)                 Output Shape              Param #   \n",
      "=================================================================\n",
      "conv2d_1 (Conv2D)            (None, 62, 62, 32)        896       \n",
      "_________________________________________________________________\n",
      "max_pooling2d_1 (MaxPooling2 (None, 31, 31, 32)        0         \n",
      "_________________________________________________________________\n",
      "conv2d_2 (Conv2D)            (None, 29, 29, 32)        9248      \n",
      "_________________________________________________________________\n",
      "max_pooling2d_2 (MaxPooling2 (None, 14, 14, 32)        0         \n",
      "_________________________________________________________________\n",
      "flatten_1 (Flatten)          (None, 6272)              0         \n",
      "_________________________________________________________________\n",
      "dense_1 (Dense)              (None, 128)               802944    \n",
      "_________________________________________________________________\n",
      "dense_2 (Dense)              (None, 10)                1290      \n",
      "=================================================================\n",
      "Total params: 814,378\n",
      "Trainable params: 814,378\n",
      "Non-trainable params: 0\n",
      "_________________________________________________________________\n"
     ]
    }
   ],
   "source": [
    "classifier = Sequential()\n",
    "\n",
    "# Step 1 - Convolution\n",
    "classifier.add(Convolution2D(32, (3, 3), input_shape = (64, 64, 3), activation = 'relu'))\n",
    "\n",
    "# Step 2 - Pooling\n",
    "classifier.add(MaxPooling2D(pool_size = (2, 2)))\n",
    "\n",
    "# Adding a second layer convolutional\n",
    "classifier.add(Convolution2D(32, (3, 3), activation = 'relu'))\n",
    "classifier.add(MaxPooling2D(pool_size = (2, 2)))\n",
    "\n",
    "# Step 3 - Flattening\n",
    "classifier.add(Flatten())\n",
    "\n",
    "# Step 4 - Full connection\n",
    "classifier.add(Dense(128, activation = 'relu'))\n",
    "classifier.add(Dense(10, activation = 'sigmoid'))\n",
    "\n",
    "# Compiling the CNN\n",
    "classifier.compile(optimizer = 'adam', loss = 'binary_crossentropy', metrics = ['accuracy'])\n",
    "\n",
    "classifier.summary()"
   ]
  },
  {
   "cell_type": "code",
   "execution_count": 4,
   "metadata": {
    "ExecuteTime": {
     "end_time": "2018-04-12T07:29:08.213510Z",
     "start_time": "2018-04-12T07:28:16.043244Z"
    }
   },
   "outputs": [
    {
     "name": "stdout",
     "output_type": "stream",
     "text": [
      "Found 28 images belonging to 10 classes.\n",
      "Found 6 images belonging to 10 classes.\n"
     ]
    },
    {
     "name": "stderr",
     "output_type": "stream",
     "text": [
      "/usr/local/lib/python3.5/dist-packages/ipykernel_launcher.py:24: UserWarning: The semantics of the Keras 2 argument `steps_per_epoch` is not the same as the Keras 1 argument `samples_per_epoch`. `steps_per_epoch` is the number of batches to draw from the generator at each epoch. Basically steps_per_epoch = samples_per_epoch/batch_size. Similarly `nb_val_samples`->`validation_steps` and `val_samples`->`steps` arguments have changed. Update your method calls accordingly.\n",
      "/usr/local/lib/python3.5/dist-packages/ipykernel_launcher.py:24: UserWarning: Update your `fit_generator` call to the Keras 2 API: `fit_generator(<keras.pre..., epochs=25, validation_steps=20, steps_per_epoch=1, validation_data=<keras.pre...)`\n"
     ]
    },
    {
     "name": "stdout",
     "output_type": "stream",
     "text": [
      "Epoch 1/25\n",
      "1/1 [==============================] - 2s 2s/step - loss: 1.0192e-07 - acc: 1.0000 - val_loss: 1.0192e-07 - val_acc: 1.0000\n",
      "Epoch 2/25\n",
      "1/1 [==============================] - 2s 2s/step - loss: 1.0192e-07 - acc: 1.0000 - val_loss: 1.0192e-07 - val_acc: 1.0000\n",
      "Epoch 3/25\n",
      "1/1 [==============================] - 2s 2s/step - loss: 1.0192e-07 - acc: 1.0000 - val_loss: 1.0192e-07 - val_acc: 1.0000\n",
      "Epoch 4/25\n",
      "1/1 [==============================] - 2s 2s/step - loss: 1.0192e-07 - acc: 1.0000 - val_loss: 1.0192e-07 - val_acc: 1.0000\n",
      "Epoch 5/25\n",
      "1/1 [==============================] - 2s 2s/step - loss: 1.0192e-07 - acc: 1.0000 - val_loss: 1.0192e-07 - val_acc: 1.0000\n",
      "Epoch 6/25\n",
      "1/1 [==============================] - 2s 2s/step - loss: 1.0192e-07 - acc: 1.0000 - val_loss: 1.0192e-07 - val_acc: 1.0000\n",
      "Epoch 7/25\n",
      "1/1 [==============================] - 2s 2s/step - loss: 1.0192e-07 - acc: 1.0000 - val_loss: 1.0192e-07 - val_acc: 1.0000\n",
      "Epoch 8/25\n",
      "1/1 [==============================] - 2s 2s/step - loss: 1.0192e-07 - acc: 1.0000 - val_loss: 1.0192e-07 - val_acc: 1.0000\n",
      "Epoch 9/25\n",
      "1/1 [==============================] - 2s 2s/step - loss: 1.0192e-07 - acc: 1.0000 - val_loss: 1.0192e-07 - val_acc: 1.0000\n",
      "Epoch 10/25\n",
      "1/1 [==============================] - 2s 2s/step - loss: 1.0192e-07 - acc: 1.0000 - val_loss: 1.0192e-07 - val_acc: 1.0000\n",
      "Epoch 11/25\n",
      "1/1 [==============================] - 2s 2s/step - loss: 1.0192e-07 - acc: 1.0000 - val_loss: 1.0192e-07 - val_acc: 1.0000\n",
      "Epoch 12/25\n",
      "1/1 [==============================] - 2s 2s/step - loss: 1.0192e-07 - acc: 1.0000 - val_loss: 1.0192e-07 - val_acc: 1.0000\n",
      "Epoch 13/25\n",
      "1/1 [==============================] - 2s 2s/step - loss: 1.0192e-07 - acc: 1.0000 - val_loss: 1.0192e-07 - val_acc: 1.0000\n",
      "Epoch 14/25\n",
      "1/1 [==============================] - 2s 2s/step - loss: 1.0192e-07 - acc: 1.0000 - val_loss: 1.0192e-07 - val_acc: 1.0000\n",
      "Epoch 15/25\n",
      "1/1 [==============================] - 2s 2s/step - loss: 1.0192e-07 - acc: 1.0000 - val_loss: 1.0192e-07 - val_acc: 1.0000\n",
      "Epoch 16/25\n",
      "1/1 [==============================] - 2s 2s/step - loss: 1.0192e-07 - acc: 1.0000 - val_loss: 1.0192e-07 - val_acc: 1.0000\n",
      "Epoch 17/25\n",
      "1/1 [==============================] - 2s 2s/step - loss: 1.0192e-07 - acc: 1.0000 - val_loss: 1.0192e-07 - val_acc: 1.0000\n",
      "Epoch 18/25\n",
      "1/1 [==============================] - 2s 2s/step - loss: 1.0192e-07 - acc: 1.0000 - val_loss: 1.0192e-07 - val_acc: 1.0000\n",
      "Epoch 19/25\n",
      "1/1 [==============================] - 2s 2s/step - loss: 1.0192e-07 - acc: 1.0000 - val_loss: 1.0192e-07 - val_acc: 1.0000\n",
      "Epoch 20/25\n",
      "1/1 [==============================] - 2s 2s/step - loss: 1.0192e-07 - acc: 1.0000 - val_loss: 1.0192e-07 - val_acc: 1.0000\n",
      "Epoch 21/25\n",
      "1/1 [==============================] - 2s 2s/step - loss: 1.0192e-07 - acc: 1.0000 - val_loss: 1.0192e-07 - val_acc: 1.0000\n",
      "Epoch 22/25\n",
      "1/1 [==============================] - 2s 2s/step - loss: 1.0192e-07 - acc: 1.0000 - val_loss: 1.0192e-07 - val_acc: 1.0000\n",
      "Epoch 23/25\n",
      "1/1 [==============================] - 2s 2s/step - loss: 1.0192e-07 - acc: 1.0000 - val_loss: 1.0192e-07 - val_acc: 1.0000\n",
      "Epoch 24/25\n",
      "1/1 [==============================] - 2s 2s/step - loss: 1.0192e-07 - acc: 1.0000 - val_loss: 1.0192e-07 - val_acc: 1.0000\n",
      "Epoch 25/25\n",
      "1/1 [==============================] - 2s 2s/step - loss: 1.0192e-07 - acc: 1.0000 - val_loss: 1.0192e-07 - val_acc: 1.0000\n"
     ]
    },
    {
     "data": {
      "text/plain": [
       "<keras.callbacks.History at 0x7fc971761710>"
      ]
     },
     "execution_count": 4,
     "metadata": {},
     "output_type": "execute_result"
    }
   ],
   "source": [
    "# Part 2 - Fitting the CNN to the images\n",
    "\n",
    "from keras.preprocessing.image import ImageDataGenerator\n",
    "\n",
    "train_datagen = ImageDataGenerator(rescale = 1./255,\n",
    "                                   shear_range = 0.2,\n",
    "                                   zoom_range = 0.2,\n",
    "                                   horizontal_flip = True)\n",
    "\n",
    "test_datagen = ImageDataGenerator(rescale = 1./255)\n",
    "\n",
    "training_set = train_datagen.flow_from_directory('Class wise Data/train',\n",
    "                                                 target_size = (64, 64),\n",
    "                                                 batch_size = 32)\n",
    "\n",
    "test_set = test_datagen.flow_from_directory('Class wise Data/test',\n",
    "                                            target_size = (64, 64),\n",
    "                                            batch_size = 32)\n",
    "\n",
    "classifier.fit_generator(training_set,\n",
    "                         samples_per_epoch = 50,\n",
    "                         nb_epoch = 25,\n",
    "                         validation_data = test_set,\n",
    "                         nb_val_samples = 20)"
   ]
  },
  {
   "cell_type": "code",
   "execution_count": null,
   "metadata": {},
   "outputs": [],
   "source": []
  }
 ],
 "metadata": {
  "kernelspec": {
   "display_name": "Python 3",
   "language": "python",
   "name": "python3"
  },
  "language_info": {
   "codemirror_mode": {
    "name": "ipython",
    "version": 3
   },
   "file_extension": ".py",
   "mimetype": "text/x-python",
   "name": "python",
   "nbconvert_exporter": "python",
   "pygments_lexer": "ipython3",
   "version": "3.5.2"
  }
 },
 "nbformat": 4,
 "nbformat_minor": 2
}
